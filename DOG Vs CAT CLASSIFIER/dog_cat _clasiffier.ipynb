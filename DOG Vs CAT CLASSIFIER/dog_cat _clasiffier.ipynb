{
 "cells": [
  {
   "cell_type": "code",
   "execution_count": 1,
   "metadata": {},
   "outputs": [
    {
     "data": {
      "text/plain": [
       "'2.12.0'"
      ]
     },
     "execution_count": 1,
     "metadata": {},
     "output_type": "execute_result"
    }
   ],
   "source": [
    "import tensorflow as tf\n",
    "from keras.preprocessing.image import ImageDataGenerator\n",
    "tf.__version__"
   ]
  },
  {
   "attachments": {},
   "cell_type": "markdown",
   "metadata": {},
   "source": [
    "### DATA PREPROCESSING [IMAGE AUGMENTATION]"
   ]
  },
  {
   "attachments": {},
   "cell_type": "markdown",
   "metadata": {},
   "source": [
    "TRAINING SET PREPROCESSING\n",
    "(to prevent overfitting)"
   ]
  },
  {
   "cell_type": "code",
   "execution_count": 4,
   "metadata": {},
   "outputs": [
    {
     "name": "stdout",
     "output_type": "stream",
     "text": [
      "Found 8000 images belonging to 2 classes.\n"
     ]
    }
   ],
   "source": [
    "train_datagen = ImageDataGenerator(rescale = 1./255,#each pixel is now bw 0 and 1\n",
    "                                   shear_range = 0.2,\n",
    "                                   zoom_range = 0.2,\n",
    "                                   horizontal_flip = True)\n",
    "training_set = train_datagen.flow_from_directory('dataset/training_set',#path\n",
    "                                                 target_size = (64, 64),#size of img\n",
    "                                                 batch_size = 32,#no of image in one batch\n",
    "                                                 class_mode = 'binary')#because we have binary classification of cat and dog"
   ]
  },
  {
   "attachments": {},
   "cell_type": "markdown",
   "metadata": {},
   "source": [
    "TEST SET PREPROCESSING"
   ]
  },
  {
   "cell_type": "code",
   "execution_count": 5,
   "metadata": {},
   "outputs": [
    {
     "name": "stdout",
     "output_type": "stream",
     "text": [
      "Found 2000 images belonging to 2 classes.\n"
     ]
    }
   ],
   "source": [
    "test_datagen = ImageDataGenerator(rescale = 1./255)\n",
    "test_set = test_datagen.flow_from_directory('dataset/test_set',\n",
    "                                            target_size = (64, 64),\n",
    "                                            batch_size = 32,\n",
    "                                            class_mode = 'binary')"
   ]
  },
  {
   "attachments": {},
   "cell_type": "markdown",
   "metadata": {},
   "source": [
    "### BUILD CNN"
   ]
  },
  {
   "attachments": {},
   "cell_type": "markdown",
   "metadata": {},
   "source": [
    "Initialsing the CNN"
   ]
  },
  {
   "cell_type": "code",
   "execution_count": 4,
   "metadata": {},
   "outputs": [],
   "source": [
    "cnn=tf.keras.models.Sequential()"
   ]
  },
  {
   "attachments": {},
   "cell_type": "markdown",
   "metadata": {},
   "source": [
    "Step 1 : Convolution"
   ]
  },
  {
   "cell_type": "code",
   "execution_count": 5,
   "metadata": {},
   "outputs": [],
   "source": [
    "cnn.add(tf.keras.layers.Conv2D(filters=32, kernel_size=3, activation='relu', input_shape=[64,64,3]))"
   ]
  },
  {
   "attachments": {},
   "cell_type": "markdown",
   "metadata": {},
   "source": [
    "Step 2 : Pooling"
   ]
  },
  {
   "cell_type": "code",
   "execution_count": 6,
   "metadata": {},
   "outputs": [],
   "source": [
    "cnn.add(tf.keras.layers.MaxPool2D(pool_size=2, strides=2))"
   ]
  },
  {
   "attachments": {},
   "cell_type": "markdown",
   "metadata": {},
   "source": [
    "Adding the second convolutional layer"
   ]
  },
  {
   "cell_type": "code",
   "execution_count": 7,
   "metadata": {},
   "outputs": [],
   "source": [
    "cnn.add(tf.keras.layers.Conv2D(filters=32, kernel_size=3, activation='relu'))\n",
    "cnn.add(tf.keras.layers.MaxPool2D(pool_size=2, strides=2))"
   ]
  },
  {
   "attachments": {},
   "cell_type": "markdown",
   "metadata": {},
   "source": [
    "Step 3 : Flattening"
   ]
  },
  {
   "cell_type": "code",
   "execution_count": 8,
   "metadata": {},
   "outputs": [],
   "source": [
    "cnn.add(tf.keras.layers.Flatten())"
   ]
  },
  {
   "attachments": {},
   "cell_type": "markdown",
   "metadata": {},
   "source": [
    "Step 4 : Full Connection"
   ]
  },
  {
   "cell_type": "code",
   "execution_count": 9,
   "metadata": {},
   "outputs": [],
   "source": [
    "cnn.add(tf.keras.layers.Dense(units=128, activation='relu'))\n",
    "cnn.add(tf.keras.layers.Dense(units=128, activation='relu'))\n",
    "cnn.add(tf.keras.layers.Dense(units=128, activation='relu'))"
   ]
  },
  {
   "attachments": {},
   "cell_type": "markdown",
   "metadata": {},
   "source": [
    "Step 5 : Output Layer"
   ]
  },
  {
   "cell_type": "code",
   "execution_count": 10,
   "metadata": {},
   "outputs": [],
   "source": [
    "cnn.add(tf.keras.layers.Dense(units=1, activation='sigmoid'))"
   ]
  },
  {
   "attachments": {},
   "cell_type": "markdown",
   "metadata": {},
   "source": [
    "### Training the CNN"
   ]
  },
  {
   "attachments": {},
   "cell_type": "markdown",
   "metadata": {},
   "source": [
    "Compiling the CNN"
   ]
  },
  {
   "cell_type": "code",
   "execution_count": 11,
   "metadata": {},
   "outputs": [],
   "source": [
    "cnn.compile(optimizer='adam',loss='binary_crossentropy',metrics=['accuracy'])"
   ]
  },
  {
   "attachments": {},
   "cell_type": "markdown",
   "metadata": {},
   "source": [
    "Training the CNN on the Training set and evaluating it on the Test set"
   ]
  },
  {
   "cell_type": "code",
   "execution_count": 12,
   "metadata": {},
   "outputs": [
    {
     "name": "stdout",
     "output_type": "stream",
     "text": [
      "Epoch 1/100\n",
      "250/250 [==============================] - 38s 147ms/step - loss: 0.6871 - accuracy: 0.5380 - val_loss: 0.6576 - val_accuracy: 0.6095\n",
      "Epoch 2/100\n",
      "250/250 [==============================] - 34s 137ms/step - loss: 0.6348 - accuracy: 0.6359 - val_loss: 0.6078 - val_accuracy: 0.6590\n",
      "Epoch 3/100\n",
      "250/250 [==============================] - 31s 124ms/step - loss: 0.5902 - accuracy: 0.6851 - val_loss: 0.5792 - val_accuracy: 0.6925\n",
      "Epoch 4/100\n",
      "250/250 [==============================] - 32s 128ms/step - loss: 0.5517 - accuracy: 0.7165 - val_loss: 0.5525 - val_accuracy: 0.7195\n",
      "Epoch 5/100\n",
      "250/250 [==============================] - 36s 144ms/step - loss: 0.5199 - accuracy: 0.7419 - val_loss: 0.5218 - val_accuracy: 0.7450\n",
      "Epoch 6/100\n",
      "250/250 [==============================] - 34s 137ms/step - loss: 0.4854 - accuracy: 0.7629 - val_loss: 0.5167 - val_accuracy: 0.7530\n",
      "Epoch 7/100\n",
      "250/250 [==============================] - 29s 118ms/step - loss: 0.4669 - accuracy: 0.7734 - val_loss: 0.5183 - val_accuracy: 0.7435\n",
      "Epoch 8/100\n",
      "250/250 [==============================] - 29s 116ms/step - loss: 0.4506 - accuracy: 0.7909 - val_loss: 0.4953 - val_accuracy: 0.7650\n",
      "Epoch 9/100\n",
      "250/250 [==============================] - 30s 121ms/step - loss: 0.4308 - accuracy: 0.7974 - val_loss: 0.4822 - val_accuracy: 0.7800\n",
      "Epoch 10/100\n",
      "250/250 [==============================] - 31s 126ms/step - loss: 0.4226 - accuracy: 0.8039 - val_loss: 0.4914 - val_accuracy: 0.7765\n",
      "Epoch 11/100\n",
      "250/250 [==============================] - 32s 129ms/step - loss: 0.4022 - accuracy: 0.8139 - val_loss: 0.4793 - val_accuracy: 0.7810\n",
      "Epoch 12/100\n",
      "250/250 [==============================] - 31s 125ms/step - loss: 0.3802 - accuracy: 0.8278 - val_loss: 0.5186 - val_accuracy: 0.7730\n",
      "Epoch 13/100\n",
      "250/250 [==============================] - 27s 109ms/step - loss: 0.3710 - accuracy: 0.8345 - val_loss: 0.5091 - val_accuracy: 0.7775\n",
      "Epoch 14/100\n",
      "250/250 [==============================] - 28s 110ms/step - loss: 0.3558 - accuracy: 0.8435 - val_loss: 0.5466 - val_accuracy: 0.7690\n",
      "Epoch 15/100\n",
      "250/250 [==============================] - 28s 111ms/step - loss: 0.3325 - accuracy: 0.8543 - val_loss: 0.5452 - val_accuracy: 0.7715\n",
      "Epoch 16/100\n",
      "250/250 [==============================] - 28s 112ms/step - loss: 0.3229 - accuracy: 0.8596 - val_loss: 0.5020 - val_accuracy: 0.7920\n",
      "Epoch 17/100\n",
      "250/250 [==============================] - 31s 126ms/step - loss: 0.3118 - accuracy: 0.8641 - val_loss: 0.5308 - val_accuracy: 0.7850\n",
      "Epoch 18/100\n",
      "250/250 [==============================] - 32s 126ms/step - loss: 0.2885 - accuracy: 0.8786 - val_loss: 0.5171 - val_accuracy: 0.7940\n",
      "Epoch 19/100\n",
      "250/250 [==============================] - 32s 127ms/step - loss: 0.2794 - accuracy: 0.8830 - val_loss: 0.5521 - val_accuracy: 0.7880\n",
      "Epoch 20/100\n",
      "250/250 [==============================] - 32s 127ms/step - loss: 0.2655 - accuracy: 0.8881 - val_loss: 0.5193 - val_accuracy: 0.7920\n",
      "Epoch 21/100\n",
      "250/250 [==============================] - 30s 119ms/step - loss: 0.2531 - accuracy: 0.8936 - val_loss: 0.5482 - val_accuracy: 0.7950\n",
      "Epoch 22/100\n",
      "250/250 [==============================] - 30s 121ms/step - loss: 0.2515 - accuracy: 0.8939 - val_loss: 0.5637 - val_accuracy: 0.7820\n",
      "Epoch 23/100\n",
      "250/250 [==============================] - 31s 122ms/step - loss: 0.2203 - accuracy: 0.9099 - val_loss: 0.6434 - val_accuracy: 0.7785\n",
      "Epoch 24/100\n",
      "250/250 [==============================] - 31s 125ms/step - loss: 0.2116 - accuracy: 0.9199 - val_loss: 0.5615 - val_accuracy: 0.7910\n",
      "Epoch 25/100\n",
      "250/250 [==============================] - 32s 127ms/step - loss: 0.2064 - accuracy: 0.9175 - val_loss: 0.6160 - val_accuracy: 0.7860\n",
      "Epoch 26/100\n",
      "250/250 [==============================] - 34s 135ms/step - loss: 0.1991 - accuracy: 0.9208 - val_loss: 0.6524 - val_accuracy: 0.7870\n",
      "Epoch 27/100\n",
      "250/250 [==============================] - 32s 128ms/step - loss: 0.1892 - accuracy: 0.9229 - val_loss: 0.6424 - val_accuracy: 0.7855\n",
      "Epoch 28/100\n",
      "250/250 [==============================] - 40s 159ms/step - loss: 0.1768 - accuracy: 0.9333 - val_loss: 0.7120 - val_accuracy: 0.7890\n",
      "Epoch 29/100\n",
      "250/250 [==============================] - 32s 128ms/step - loss: 0.1852 - accuracy: 0.9244 - val_loss: 0.6322 - val_accuracy: 0.7975\n",
      "Epoch 30/100\n",
      "250/250 [==============================] - 32s 128ms/step - loss: 0.1593 - accuracy: 0.9371 - val_loss: 0.7261 - val_accuracy: 0.7775\n",
      "Epoch 31/100\n",
      "250/250 [==============================] - 38s 153ms/step - loss: 0.1543 - accuracy: 0.9385 - val_loss: 0.7029 - val_accuracy: 0.7945\n",
      "Epoch 32/100\n",
      "250/250 [==============================] - 40s 161ms/step - loss: 0.1548 - accuracy: 0.9369 - val_loss: 0.7282 - val_accuracy: 0.8005\n",
      "Epoch 33/100\n",
      "250/250 [==============================] - 35s 139ms/step - loss: 0.1518 - accuracy: 0.9402 - val_loss: 0.7142 - val_accuracy: 0.7900\n",
      "Epoch 34/100\n",
      "250/250 [==============================] - 32s 127ms/step - loss: 0.1332 - accuracy: 0.9496 - val_loss: 0.8141 - val_accuracy: 0.7890\n",
      "Epoch 35/100\n",
      "250/250 [==============================] - 32s 128ms/step - loss: 0.1452 - accuracy: 0.9444 - val_loss: 0.6957 - val_accuracy: 0.7880\n",
      "Epoch 36/100\n",
      "250/250 [==============================] - 35s 139ms/step - loss: 0.1244 - accuracy: 0.9514 - val_loss: 0.7404 - val_accuracy: 0.7890\n",
      "Epoch 37/100\n",
      "250/250 [==============================] - 36s 146ms/step - loss: 0.1208 - accuracy: 0.9530 - val_loss: 0.7309 - val_accuracy: 0.7785\n",
      "Epoch 38/100\n",
      "250/250 [==============================] - 39s 156ms/step - loss: 0.1338 - accuracy: 0.9489 - val_loss: 0.7580 - val_accuracy: 0.7870\n",
      "Epoch 39/100\n",
      "250/250 [==============================] - 39s 156ms/step - loss: 0.1138 - accuracy: 0.9576 - val_loss: 0.8330 - val_accuracy: 0.7830\n",
      "Epoch 40/100\n",
      "250/250 [==============================] - 31s 125ms/step - loss: 0.1101 - accuracy: 0.9571 - val_loss: 0.7740 - val_accuracy: 0.7865\n",
      "Epoch 41/100\n",
      "250/250 [==============================] - 32s 126ms/step - loss: 0.1198 - accuracy: 0.9549 - val_loss: 0.8011 - val_accuracy: 0.7875\n",
      "Epoch 42/100\n",
      "250/250 [==============================] - 34s 135ms/step - loss: 0.1068 - accuracy: 0.9597 - val_loss: 0.7693 - val_accuracy: 0.7975\n",
      "Epoch 43/100\n",
      "250/250 [==============================] - 32s 130ms/step - loss: 0.0976 - accuracy: 0.9620 - val_loss: 0.8274 - val_accuracy: 0.7815\n",
      "Epoch 44/100\n",
      "250/250 [==============================] - 32s 127ms/step - loss: 0.0903 - accuracy: 0.9681 - val_loss: 0.8238 - val_accuracy: 0.7875\n",
      "Epoch 45/100\n",
      "250/250 [==============================] - 32s 129ms/step - loss: 0.1032 - accuracy: 0.9610 - val_loss: 0.8065 - val_accuracy: 0.7830\n",
      "Epoch 46/100\n",
      "250/250 [==============================] - 32s 128ms/step - loss: 0.0952 - accuracy: 0.9643 - val_loss: 0.8944 - val_accuracy: 0.7820\n",
      "Epoch 47/100\n",
      "250/250 [==============================] - 68s 274ms/step - loss: 0.0912 - accuracy: 0.9663 - val_loss: 0.9115 - val_accuracy: 0.7660\n",
      "Epoch 48/100\n",
      "250/250 [==============================] - 44s 177ms/step - loss: 0.0862 - accuracy: 0.9695 - val_loss: 0.9551 - val_accuracy: 0.7810\n",
      "Epoch 49/100\n",
      "250/250 [==============================] - 43s 171ms/step - loss: 0.0793 - accuracy: 0.9712 - val_loss: 1.1101 - val_accuracy: 0.7785\n",
      "Epoch 50/100\n",
      "250/250 [==============================] - 48s 192ms/step - loss: 0.0820 - accuracy: 0.9676 - val_loss: 1.0154 - val_accuracy: 0.7760\n",
      "Epoch 51/100\n",
      "250/250 [==============================] - 42s 167ms/step - loss: 0.0802 - accuracy: 0.9707 - val_loss: 0.9332 - val_accuracy: 0.7935\n",
      "Epoch 52/100\n",
      "250/250 [==============================] - 32s 129ms/step - loss: 0.0868 - accuracy: 0.9690 - val_loss: 0.8074 - val_accuracy: 0.7950\n",
      "Epoch 53/100\n",
      "250/250 [==============================] - 32s 128ms/step - loss: 0.0855 - accuracy: 0.9672 - val_loss: 0.9354 - val_accuracy: 0.7935\n",
      "Epoch 54/100\n",
      "250/250 [==============================] - 33s 131ms/step - loss: 0.0785 - accuracy: 0.9707 - val_loss: 0.9451 - val_accuracy: 0.7900\n",
      "Epoch 55/100\n",
      "250/250 [==============================] - 32s 128ms/step - loss: 0.0766 - accuracy: 0.9726 - val_loss: 0.9424 - val_accuracy: 0.7765\n",
      "Epoch 56/100\n",
      "250/250 [==============================] - 32s 129ms/step - loss: 0.0753 - accuracy: 0.9739 - val_loss: 0.9017 - val_accuracy: 0.7890\n",
      "Epoch 57/100\n",
      "250/250 [==============================] - 33s 132ms/step - loss: 0.0779 - accuracy: 0.9704 - val_loss: 0.9113 - val_accuracy: 0.7850\n",
      "Epoch 58/100\n",
      "250/250 [==============================] - 57s 229ms/step - loss: 0.0772 - accuracy: 0.9729 - val_loss: 0.9554 - val_accuracy: 0.7865\n",
      "Epoch 59/100\n",
      "250/250 [==============================] - 52s 209ms/step - loss: 0.0734 - accuracy: 0.9729 - val_loss: 0.9165 - val_accuracy: 0.7880\n",
      "Epoch 60/100\n",
      "250/250 [==============================] - 47s 190ms/step - loss: 0.0677 - accuracy: 0.9754 - val_loss: 0.9985 - val_accuracy: 0.7945\n",
      "Epoch 61/100\n",
      "250/250 [==============================] - 44s 177ms/step - loss: 0.0741 - accuracy: 0.9722 - val_loss: 0.9233 - val_accuracy: 0.7845\n",
      "Epoch 62/100\n",
      "250/250 [==============================] - 45s 180ms/step - loss: 0.0662 - accuracy: 0.9760 - val_loss: 0.9687 - val_accuracy: 0.7870\n",
      "Epoch 63/100\n",
      "250/250 [==============================] - 45s 181ms/step - loss: 0.0743 - accuracy: 0.9735 - val_loss: 0.8325 - val_accuracy: 0.7965\n",
      "Epoch 64/100\n",
      "250/250 [==============================] - 48s 193ms/step - loss: 0.0613 - accuracy: 0.9780 - val_loss: 1.0048 - val_accuracy: 0.7865\n",
      "Epoch 65/100\n",
      "250/250 [==============================] - 54s 216ms/step - loss: 0.0625 - accuracy: 0.9775 - val_loss: 0.9192 - val_accuracy: 0.7885\n",
      "Epoch 66/100\n",
      "250/250 [==============================] - 45s 181ms/step - loss: 0.0547 - accuracy: 0.9801 - val_loss: 1.1587 - val_accuracy: 0.7840\n",
      "Epoch 67/100\n",
      "250/250 [==============================] - 42s 168ms/step - loss: 0.0617 - accuracy: 0.9778 - val_loss: 1.0990 - val_accuracy: 0.7770\n",
      "Epoch 68/100\n",
      "250/250 [==============================] - 40s 159ms/step - loss: 0.0576 - accuracy: 0.9795 - val_loss: 1.0349 - val_accuracy: 0.7910\n",
      "Epoch 69/100\n",
      "250/250 [==============================] - 37s 147ms/step - loss: 0.0626 - accuracy: 0.9759 - val_loss: 0.9436 - val_accuracy: 0.7945\n",
      "Epoch 70/100\n",
      "250/250 [==============================] - 37s 149ms/step - loss: 0.0575 - accuracy: 0.9809 - val_loss: 0.8721 - val_accuracy: 0.7950\n",
      "Epoch 71/100\n",
      "250/250 [==============================] - 38s 150ms/step - loss: 0.0532 - accuracy: 0.9805 - val_loss: 1.0244 - val_accuracy: 0.7965\n",
      "Epoch 72/100\n",
      "250/250 [==============================] - 39s 154ms/step - loss: 0.0553 - accuracy: 0.9812 - val_loss: 0.9482 - val_accuracy: 0.7875\n",
      "Epoch 73/100\n",
      "250/250 [==============================] - 37s 147ms/step - loss: 0.0468 - accuracy: 0.9841 - val_loss: 1.1397 - val_accuracy: 0.8000\n",
      "Epoch 74/100\n",
      "250/250 [==============================] - 36s 145ms/step - loss: 0.0551 - accuracy: 0.9809 - val_loss: 1.0946 - val_accuracy: 0.7850\n",
      "Epoch 75/100\n",
      "250/250 [==============================] - 37s 148ms/step - loss: 0.0501 - accuracy: 0.9830 - val_loss: 0.9687 - val_accuracy: 0.7900\n",
      "Epoch 76/100\n",
      "250/250 [==============================] - 37s 148ms/step - loss: 0.0518 - accuracy: 0.9815 - val_loss: 0.9862 - val_accuracy: 0.7860\n",
      "Epoch 77/100\n",
      "250/250 [==============================] - 37s 147ms/step - loss: 0.0490 - accuracy: 0.9824 - val_loss: 1.1533 - val_accuracy: 0.7895\n",
      "Epoch 78/100\n",
      "250/250 [==============================] - 37s 147ms/step - loss: 0.0606 - accuracy: 0.9791 - val_loss: 0.9622 - val_accuracy: 0.7785\n",
      "Epoch 79/100\n",
      "250/250 [==============================] - 37s 146ms/step - loss: 0.0533 - accuracy: 0.9809 - val_loss: 0.9838 - val_accuracy: 0.7910\n",
      "Epoch 80/100\n",
      "250/250 [==============================] - 37s 147ms/step - loss: 0.0491 - accuracy: 0.9833 - val_loss: 0.9446 - val_accuracy: 0.8005\n",
      "Epoch 81/100\n",
      "250/250 [==============================] - 39s 156ms/step - loss: 0.0608 - accuracy: 0.9787 - val_loss: 0.9887 - val_accuracy: 0.7910\n",
      "Epoch 82/100\n",
      "250/250 [==============================] - 32s 129ms/step - loss: 0.0525 - accuracy: 0.9811 - val_loss: 0.9351 - val_accuracy: 0.7960\n",
      "Epoch 83/100\n",
      "250/250 [==============================] - 32s 129ms/step - loss: 0.0487 - accuracy: 0.9829 - val_loss: 1.0161 - val_accuracy: 0.7915\n",
      "Epoch 84/100\n",
      "250/250 [==============================] - 33s 131ms/step - loss: 0.0569 - accuracy: 0.9809 - val_loss: 1.0408 - val_accuracy: 0.7905\n",
      "Epoch 85/100\n",
      "250/250 [==============================] - 31s 125ms/step - loss: 0.0456 - accuracy: 0.9846 - val_loss: 1.1027 - val_accuracy: 0.8000\n",
      "Epoch 86/100\n",
      "250/250 [==============================] - 32s 129ms/step - loss: 0.0504 - accuracy: 0.9814 - val_loss: 0.9924 - val_accuracy: 0.7860\n",
      "Epoch 87/100\n",
      "250/250 [==============================] - 32s 128ms/step - loss: 0.0404 - accuracy: 0.9843 - val_loss: 1.0864 - val_accuracy: 0.7945\n",
      "Epoch 88/100\n",
      "250/250 [==============================] - 35s 139ms/step - loss: 0.0505 - accuracy: 0.9831 - val_loss: 0.9978 - val_accuracy: 0.7980\n",
      "Epoch 89/100\n",
      "250/250 [==============================] - 33s 130ms/step - loss: 0.0413 - accuracy: 0.9859 - val_loss: 1.0275 - val_accuracy: 0.7915\n",
      "Epoch 90/100\n",
      "250/250 [==============================] - 32s 130ms/step - loss: 0.0423 - accuracy: 0.9841 - val_loss: 1.1238 - val_accuracy: 0.7915\n",
      "Epoch 91/100\n",
      "250/250 [==============================] - 33s 132ms/step - loss: 0.0406 - accuracy: 0.9868 - val_loss: 1.0982 - val_accuracy: 0.7895\n",
      "Epoch 92/100\n",
      "250/250 [==============================] - 32s 128ms/step - loss: 0.0407 - accuracy: 0.9862 - val_loss: 1.1518 - val_accuracy: 0.7915\n",
      "Epoch 93/100\n",
      "250/250 [==============================] - 33s 131ms/step - loss: 0.0477 - accuracy: 0.9824 - val_loss: 1.0603 - val_accuracy: 0.7925\n",
      "Epoch 94/100\n",
      "250/250 [==============================] - 32s 129ms/step - loss: 0.0481 - accuracy: 0.9814 - val_loss: 1.0681 - val_accuracy: 0.7795\n",
      "Epoch 95/100\n",
      "250/250 [==============================] - 32s 129ms/step - loss: 0.0361 - accuracy: 0.9866 - val_loss: 1.1505 - val_accuracy: 0.7875\n",
      "Epoch 96/100\n",
      "250/250 [==============================] - 32s 128ms/step - loss: 0.0424 - accuracy: 0.9837 - val_loss: 1.1413 - val_accuracy: 0.7975\n",
      "Epoch 97/100\n",
      "250/250 [==============================] - 32s 128ms/step - loss: 0.0465 - accuracy: 0.9829 - val_loss: 1.1158 - val_accuracy: 0.7975\n",
      "Epoch 98/100\n",
      "250/250 [==============================] - 33s 132ms/step - loss: 0.0410 - accuracy: 0.9858 - val_loss: 1.2899 - val_accuracy: 0.7765\n",
      "Epoch 99/100\n",
      "250/250 [==============================] - 33s 132ms/step - loss: 0.0449 - accuracy: 0.9835 - val_loss: 1.0483 - val_accuracy: 0.7810\n",
      "Epoch 100/100\n",
      "250/250 [==============================] - 32s 129ms/step - loss: 0.0387 - accuracy: 0.9869 - val_loss: 1.1537 - val_accuracy: 0.7990\n"
     ]
    },
    {
     "data": {
      "text/plain": [
       "<keras.callbacks.History at 0x1fe5dc85460>"
      ]
     },
     "execution_count": 12,
     "metadata": {},
     "output_type": "execute_result"
    }
   ],
   "source": [
    "#cnn.fit(x=training_set, validation_data=test_set, epochs=100)"
   ]
  },
  {
   "attachments": {},
   "cell_type": "markdown",
   "metadata": {},
   "source": [
    "### Saving the model"
   ]
  },
  {
   "cell_type": "code",
   "execution_count": 13,
   "metadata": {},
   "outputs": [
    {
     "data": {
      "text/plain": [
       "['cnn_dog_cat_100epoch.joblib']"
      ]
     },
     "execution_count": 13,
     "metadata": {},
     "output_type": "execute_result"
    }
   ],
   "source": [
    "#import joblib\n",
    "#joblib.dump(cnn,'cnn_dog_cat_100epoch.joblib')"
   ]
  },
  {
   "attachments": {},
   "cell_type": "markdown",
   "metadata": {},
   "source": [
    "### Laoding the Model"
   ]
  },
  {
   "cell_type": "code",
   "execution_count": 7,
   "metadata": {},
   "outputs": [],
   "source": [
    "import joblib\n",
    "cnn=joblib.load('cnn_dog_cat_100epoch.joblib')"
   ]
  },
  {
   "attachments": {},
   "cell_type": "markdown",
   "metadata": {},
   "source": [
    "### Making a single prediction"
   ]
  },
  {
   "cell_type": "code",
   "execution_count": 8,
   "metadata": {},
   "outputs": [
    {
     "name": "stdout",
     "output_type": "stream",
     "text": [
      "1/1 [==============================] - 0s 71ms/step\n"
     ]
    }
   ],
   "source": [
    "import numpy as np\n",
    "from keras import utils\n",
    "test_image=utils.load_img('C:\\code\\licensed-image.jpg',target_size=(64,64))\n",
    "test_image=utils.img_to_array(test_image)\n",
    "test_image=np.expand_dims(test_image,axis=0)\n",
    "result=cnn.predict(test_image)\n",
    "training_set.class_indices\n",
    "if result[0][0] == 1:\n",
    "  prediction = 'dog'\n",
    "else:\n",
    "  prediction = 'cat'\n"
   ]
  },
  {
   "cell_type": "code",
   "execution_count": 10,
   "metadata": {},
   "outputs": [
    {
     "data": {
      "text/plain": [
       "array([[1.]], dtype=float32)"
      ]
     },
     "execution_count": 10,
     "metadata": {},
     "output_type": "execute_result"
    }
   ],
   "source": [
    "result"
   ]
  },
  {
   "cell_type": "code",
   "execution_count": 9,
   "metadata": {},
   "outputs": [
    {
     "name": "stdout",
     "output_type": "stream",
     "text": [
      "dog\n"
     ]
    }
   ],
   "source": [
    "print(prediction)"
   ]
  }
 ],
 "metadata": {
  "kernelspec": {
   "display_name": "Python 3",
   "language": "python",
   "name": "python3"
  },
  "language_info": {
   "codemirror_mode": {
    "name": "ipython",
    "version": 3
   },
   "file_extension": ".py",
   "mimetype": "text/x-python",
   "name": "python",
   "nbconvert_exporter": "python",
   "pygments_lexer": "ipython3",
   "version": "3.9.5"
  },
  "orig_nbformat": 4
 },
 "nbformat": 4,
 "nbformat_minor": 2
}
